{
 "cells": [
  {
   "cell_type": "code",
   "execution_count": 15,
   "metadata": {},
   "outputs": [
    {
     "name": "stdout",
     "output_type": "stream",
     "text": [
      "CUSTOMER file extracted\n",
      "INVOICE file extracted\n",
      "INVOICE_ITEM file extracted\n",
      "Finished in 93.08556090000002\n"
     ]
    }
   ],
   "source": [
    "import csv\n",
    "import time \n",
    "\n",
    "customers_sample_list = []\n",
    "#we are storing all customer ids from the sample file in a list so that we can use the data easily \n",
    "with open(\"CUSTOMER_SAMPLE.csv\", \"r\") as customer_sample:\n",
    "    cust = csv.reader(customer_sample, delimiter = \",\")\n",
    "    next(cust)#skip the first row\n",
    "    for row in cust:\n",
    "        customers_sample_list.append(row[0])\n",
    "\n",
    "invoice_list = [] \n",
    "#creating an empty list for the invoices ids so that we can do the same as with customers ids\n",
    "\n",
    "\n",
    "#this function will according to the customers or the invoice id will write the appropriate data to each file \n",
    "def file_extraction(full_file):\n",
    "    #holding the invoice ids and the customer ids under the same name (ids) to use them easily depending on the file\n",
    "    if full_file == \"INVOICE_ITEM\": \n",
    "        ids = invoice_list\n",
    "    else:\n",
    "        ids = customers_sample_list\n",
    "        \n",
    "    full_file_lower = full_file.lower() #using the files name in lower case to name it after we open it \n",
    "    with open(full_file + \".csv\", \"r\") as full_file_lower: #reading the data from full file\n",
    "        raw_data = csv.DictReader(full_file_lower, delimiter = \",\") #opening the primary file (full database)\n",
    "        with open(full_file + \"_EXTRACTED.csv\", \"w\", newline = \"\") as extracted:\n",
    "            header = next(raw_data)\n",
    "            writer = csv.writer(extracted, quoting=csv.QUOTE_ALL) #writing the headers\n",
    "            writer.writerow(header) #writing the headers\n",
    "            count = 0 #holding a count for all customer ids from the sample\n",
    "            for row in raw_data: #iterating through the primary file \n",
    "                if full_file == \"CUSTOMER\": #if the ids from the primary file appear in the list from the sample, we write the corresponding data\n",
    "                    if row[\"CUSTOMER_CODE\"] in ids:\n",
    "                        tup1 = (row[\"CUSTOMER_CODE\"], row[\"FIRSTNAME\"], row[\"LASTNAME\"])\n",
    "                        writer.writerow(tup1)\n",
    "                        count += 1\n",
    "                        if count == len(customers_sample_list):\n",
    "                            break #we can break out of the loop if we have loop over everyone in the sample list\n",
    "                elif full_file == \"INVOICE\":\n",
    "                    if row[\"CUSTOMER_CODE\"] in ids:\n",
    "                        tup2 = (row[\"CUSTOMER_CODE\"], row[\"INVOICE_CODE\"], row[\"AMOUNT\"], row[\"DATE\"])\n",
    "                        writer.writerow(tup2)\n",
    "                        invoice_list.append(row[\"INVOICE_CODE\"]) #appending the invoice ids for each customer fromteh sample file\n",
    "                elif full_file == \"INVOICE_ITEM\":\n",
    "                    if row[\"INVOICE_CODE\"] in ids:\n",
    "                        tup3 = (row[\"INVOICE_CODE\"], row[\"ITEM_CODE\"], row[\"AMOUNT\"], row[\"QUANTITY\"])\n",
    "                        writer.writerow(tup3) \n",
    "\n",
    "                    \n",
    "start = time.perf_counter()\n",
    "\n",
    "files = [\"CUSTOMER\", \"INVOICE\", \"INVOICE_ITEM\"] #holder for the name of the files\n",
    "\n",
    "for file in files: #iterating throuth the file names and executing the above process individually \n",
    "    file_extraction(file)\n",
    "    print(\"{} file extracted\".format(file))\n",
    "    \n",
    "end = time.perf_counter()\n",
    "print(\"Finished in {}\".format(end - start)) ~ #1.5 mins"
   ]
  },
  {
   "cell_type": "code",
   "execution_count": 11,
   "metadata": {},
   "outputs": [],
   "source": []
  },
  {
   "cell_type": "code",
   "execution_count": 12,
   "metadata": {},
   "outputs": [],
   "source": []
  },
  {
   "cell_type": "code",
   "execution_count": 13,
   "metadata": {},
   "outputs": [],
   "source": []
  },
  {
   "cell_type": "code",
   "execution_count": null,
   "metadata": {},
   "outputs": [],
   "source": []
  },
  {
   "cell_type": "code",
   "execution_count": null,
   "metadata": {},
   "outputs": [],
   "source": []
  }
 ],
 "metadata": {
  "kernelspec": {
   "display_name": "Python 3",
   "language": "python",
   "name": "python3"
  },
  "language_info": {
   "codemirror_mode": {
    "name": "ipython",
    "version": 3
   },
   "file_extension": ".py",
   "mimetype": "text/x-python",
   "name": "python",
   "nbconvert_exporter": "python",
   "pygments_lexer": "ipython3",
   "version": "3.8.5"
  }
 },
 "nbformat": 4,
 "nbformat_minor": 4
}
