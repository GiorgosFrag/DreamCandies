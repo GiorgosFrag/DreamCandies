{
 "cells": [
  {
   "cell_type": "code",
   "execution_count": 17,
   "metadata": {},
   "outputs": [],
   "source": [
    "import csv#imporint this library will give us the ability to create writers ans readers for our csv files\n",
    "import names#This library is slow so it takes a few mins to create this file\n",
    "\n",
    "customers = [] #empty list that hill hold the customers ids\n",
    "with open(\"CUSTOMER.csv\", \"a\", newline=\"\") as cust:#Creating a new file that will contain the 3 columns \"CUSTOMER_CODE\", \"FIRSTNAME\", \"LASTNAME\"\n",
    "    tup1 = (\"CUSTOMER_CODE\", \"FIRSTNAME\", \"LASTNAME\") \n",
    "    writer = csv.writer(cust, quoting=csv.QUOTE_ALL)\n",
    "    writer.writerow(tup1) #writing the headers\n",
    "    for i in range(1, 100001): #looping over to generate 100,000 random data/customers\n",
    "        delta = 10 - len(str(i)) #the customer id follows a pattern that consists of 10 numbers, according to how many digits the number has the rest will be 0's \n",
    "        customer_id = \"CUST\" + \"0\"*delta + str(i) \n",
    "        customers.append(customer_id)#appending the customers ids to a list \n",
    "        tup2 = (customer_id, names.get_first_name(), names.get_last_name())\n",
    "        writer.writerow(tup2) #writing the arbitrary generated data in the file"
   ]
  },
  {
   "cell_type": "code",
   "execution_count": 19,
   "metadata": {},
   "outputs": [],
   "source": [
    "#creating a holder for 1,000,000 invoices so that we can choose randomly weach invoice to assign to the INVOICE_ITEM.csv file\n",
    "invoices = []\n",
    "for i in range(1, 1000001):\n",
    "        delta = 7 - len(str(i))\n",
    "        rand_inv = \"IN\" + \"0\"*delta + str(i)\n",
    "        invoices.append(rand_inv)"
   ]
  },
  {
   "cell_type": "code",
   "execution_count": 20,
   "metadata": {},
   "outputs": [],
   "source": [
    "#Creating the INVOICE_ITEM.csv file\\n\",\n",
    "from random import randint \n",
    "from random import choice\n",
    "\n",
    "\n",
    "with open(\"INVOICE_ITEM.csv\", \"a\", newline = \"\") as item:\n",
    "    tup1 = (\"INVOICE_CODE\", \"ITEM_CODE\", \"AMOUNT\", \"QUANTITY\") \n",
    "    writer = csv.writer(item, quoting=csv.QUOTE_ALL)\n",
    "    writer.writerow(tup1) #writing the headers \"INVOICE_CODE\", \"ITEM_CODE\", \"AMOUNT\", \"QUANTITY\" in the file \n",
    "    for i in range(1, 1000001):\n",
    "        products = {\"MEIJI\":0.756, \"POCKY\":0.0416, \"PUCCHO\":0.4875} #a dictionary that holds as keys the products and as values there prices\n",
    "        product = choice(list(products.keys())) #randomly choose a product\n",
    "        quantity = randint(1, 501) #as a constrain we allow the customer to buy up to 500 pruducts in an invoice\n",
    "        \n",
    "        tup2 = (choice(invoices), product, round(products[product]*quantity, 2), quantity)\n",
    "        writer.writerow(tup2) #writing the data in the file"
   ]
  },
  {
   "cell_type": "code",
   "execution_count": 21,
   "metadata": {},
   "outputs": [],
   "source": [
    "#Creating the INVOICE.csv file\n",
    "from numpy import random\n",
    "import time\n",
    "from datetime import datetime\n",
    "from random import choice\n",
    "\n",
    "#grouping by invoice code and calculating the total invoice charge\n",
    "purchases = {}\n",
    "with open('INVOICE_ITEM.csv') as item:\n",
    "    invoice_item = csv.reader(item)\n",
    "    next(invoice_item) # skip header row\n",
    "    for row in invoice_item:\n",
    "        purchases.setdefault(row[0], []).append(float(row[2]))#creating a dictionray with list keys to hold the total \n",
    "                                                #charge for each product\n",
    "\n",
    "            \n",
    "amount= {}\n",
    "for key, value in purchases.items():\n",
    "    amount[key] = round(sum(value), 2)#creating the dictionary that hold as keys the invoice number and as values the total charge of the invoice\n",
    "\n",
    "\n",
    "with open(\"INVOICE.csv\", \"w\", newline = \"\") as invoice:\n",
    "    tup1 = (\"CUSTOMER_CODE\", \"INVOICE_CODE\", \"AMOUNT\", \"DATE\")\n",
    "    writer = csv.writer(invoice, quoting=csv.QUOTE_ALL)\n",
    "    writer.writerow(tup1) #writing the headers \"CUSTOMER_CODE\", \"INVOICE_CODE\", \"AMOUNT\", \"DATE\"\n",
    "    for inv, amount in amount.items():\n",
    "        d = random.randint(1, int(time.time()))\n",
    "        date  = datetime.fromtimestamp(d).strftime('%d-%b-2021') #creating a random date in the year 2021 \n",
    "        \n",
    "        tup2 = (choice(customers), inv, amount, date) #choosing a random customer from customers list and assigning the invoices with ascending order, the amount of money for each invoice and the date we generated \n",
    "        writer.writerow(tup2) #writing the data"
   ]
  },
  {
   "cell_type": "code",
   "execution_count": null,
   "metadata": {},
   "outputs": [],
   "source": [
    "customers_list = []\n",
    "#we are holding all the customers into a list so that we can choose randomly and write in the sample csv file \n",
    "with open(\"CUSTOMER.csv\", \"r\") as customers:\n",
    "    cust = csv.reader(customers, delimiter = \",\")\n",
    "    next(cust)#skip the first row\n",
    "    for row in cust:\n",
    "        customers_list.append(row[0])\n",
    "        \n",
    "import random\n",
    "\n",
    "#creating the random sample consisting of 1000 customers from our primary full database\n",
    "#the sample method will give us 1000 customers without duplicates\n",
    "sample_list = random.sample(customers_list, 1000)\n",
    "\n",
    "with open(\"CUSTOMER_SAMPLE.csv\", \"a\", newline=\"\") as sample:\n",
    "    tup1 = (\"CUSTOMER_CODE\",)\n",
    "    writer = csv.writer(sample, quoting=csv.QUOTE_ALL)\n",
    "    writer.writerow(tup1)\n",
    "    for i in range(1000):\n",
    "        tup2 = (sample_list[i],)\n",
    "        writer.writerow(tup2)"
   ]
  }
 ],
 "metadata": {
  "kernelspec": {
   "display_name": "Python 3",
   "language": "python",
   "name": "python3"
  },
  "language_info": {
   "codemirror_mode": {
    "name": "ipython",
    "version": 3
   },
   "file_extension": ".py",
   "mimetype": "text/x-python",
   "name": "python",
   "nbconvert_exporter": "python",
   "pygments_lexer": "ipython3",
   "version": "3.8.5"
  }
 },
 "nbformat": 4,
 "nbformat_minor": 5
}
